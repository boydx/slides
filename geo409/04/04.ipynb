{
 "metadata": {
  "language_info": {
   "codemirror_mode": {
    "name": "ipython",
    "version": 3
   },
   "file_extension": ".py",
   "mimetype": "text/x-python",
   "name": "python",
   "nbconvert_exporter": "python",
   "pygments_lexer": "ipython3",
   "version": "3.7.3-final"
  },
  "orig_nbformat": 2,
  "kernelspec": {
   "name": "python3",
   "display_name": "Python 3.7.3 64-bit ('geo': conda)",
   "metadata": {
    "interpreter": {
     "hash": "f251ebb8afa2e88e29b29c397e19ab2c644c321bcb7b085469cde3e82dcd8e54"
    }
   }
  }
 },
 "nbformat": 4,
 "nbformat_minor": 2,
 "cells": [
  {
   "cell_type": "code",
   "execution_count": 6,
   "metadata": {},
   "outputs": [
    {
     "output_type": "stream",
     "name": "stdout",
     "text": [
      "Castle Arch\nC\na\ns\nt\nl\ne\n \nA\nr\nc\nh\nRock Bridge Arch\nR\no\nc\nk\n \nB\nr\ni\nd\ng\ne\n \nA\nr\nc\nh\nSilvermine Arch\nS\ni\nl\nv\ne\nr\nm\ni\nn\ne\n \nA\nr\nc\nh\n"
     ]
    }
   ],
   "source": [
    "archesList = ['Silvermine Arch', 'Castle Arch', 'Rock Bridge Arch']\n",
    "archesList.sort()\n",
    "for arch in archesList:\n",
    "    print (arch)\n",
    "    for letter in arch:\n",
    "        print(letter)\n",
    "    "
   ]
  },
  {
   "cell_type": "code",
   "execution_count": 8,
   "metadata": {},
   "outputs": [
    {
     "output_type": "stream",
     "name": "stdout",
     "text": [
      "[['Castle Arch', [37.8123, -83.5796]], ['Rock Bridge Arch', [37.7686, -83.5582]], ['Silvermine Arch', [37.7873, -83.6243]]]\n"
     ]
    }
   ],
   "source": [
    "archesList = ['Silvermine Arch', 'Castle Arch', 'Rock Bridge Arch']\n",
    "archCoords = [[37.7873, -83.6243], [37.8123, -83.5796], [37.7686, -83.5582]]\n",
    "\n",
    "aList = []\n",
    "i = 0\n",
    "\n",
    "for arch in archesList:\n",
    "    aList.append([arch, archCoords[i]])\n",
    "    i += 1\n",
    "aList.sort()\n",
    "print(aList)\n"
   ]
  },
  {
   "cell_type": "code",
   "execution_count": 33,
   "metadata": {},
   "outputs": [
    {
     "output_type": "stream",
     "name": "stdout",
     "text": [
      "[['Castle Arch', [37.8123, -83.5796]], ['Rock Bridge Arch', [37.7686, -83.5582]], ['Silvermine Arch', [37.7873, -83.6243]]]\n"
     ]
    }
   ],
   "source": [
    "archesList = ['Silvermine Arch', 'Castle Arch', 'Rock Bridge Arch']\n",
    "archCoords = [[37.7873, -83.6243], [37.8123, -83.5796], [37.7686, -83.5582]]\n",
    "\n",
    "aList = []\n",
    "i = 0\n",
    "\n",
    "# Using zip() function\n",
    "for x, y in zip(archesList, archCoords):\n",
    "    aList.append([x, y])\n",
    "    i += 1\n",
    "aList.sort()\n",
    "print(aList)"
   ]
  },
  {
   "cell_type": "code",
   "execution_count": 9,
   "metadata": {},
   "outputs": [
    {
     "output_type": "stream",
     "name": "stdout",
     "text": [
      "[[[-83.5582, 37.7686], 'Rock Bridge Arch'], [[-83.5796, 37.8123], 'Castle Arch'], [[-83.6243, 37.7873], 'Silvermine Arch']]\n"
     ]
    }
   ],
   "source": [
    "aList = []\n",
    "archesList = ['Silvermine Arch', 'Castle Arch', 'Rock Bridge Arch']\n",
    "archCoords = [[37.7873, -83.6243], [37.8123, -83.5796], [37.7686, -83.5582]]\n",
    "n = 0\n",
    "for i in archesList:\n",
    "    aList.append([[archCoords[n][1], archCoords[n][0]], i])\n",
    "    n += 1\n",
    "aList.sort(reverse=True) # reverse needed?\n",
    "print(aList)"
   ]
  },
  {
   "cell_type": "code",
   "execution_count": 13,
   "metadata": {},
   "outputs": [
    {
     "output_type": "stream",
     "name": "stdout",
     "text": [
      "[('Castle Arch', [37.8123, -83.5796], 'sandstone', 15), ('Silvermine Arch', [37.7873, -83.6243], 'sandstone', 23)]\n"
     ]
    }
   ],
   "source": [
    "# collection of arches\n",
    "arches = [('Silvermine Arch', [37.7873, -83.6243], 'sandstone', 23),\n",
    "            ('Castle Arch', [37.8123, -83.5796], 'sandstone', 15)]\n",
    "# sort like a List\n",
    "arches.sort()\n",
    "print(arches) "
   ]
  },
  {
   "cell_type": "code",
   "execution_count": 20,
   "metadata": {},
   "outputs": [
    {
     "output_type": "stream",
     "name": "stdout",
     "text": [
      "-83.6243 37.7873\n-83.5796 37.8123\n-83.5582 37.7686\n"
     ]
    }
   ],
   "source": [
    "archCoords = [[37.7873, -83.6243], [37.8123, -83.5796], [37.7686, -83.5582]]\n",
    "for (x, y) in archCoords:\n",
    "    print(y, x)"
   ]
  },
  {
   "cell_type": "code",
   "execution_count": 15,
   "metadata": {},
   "outputs": [
    {
     "output_type": "stream",
     "name": "stdout",
     "text": [
      "sandstone\n"
     ]
    }
   ],
   "source": [
    "# related info but different type\n",
    "arch = ('Silvermine Arch', [37.7873, -83.6243], 'sandstone', 23)\n",
    "# access like a List\n",
    "print(arch[2]) # outputs sandstone "
   ]
  },
  {
   "cell_type": "code",
   "execution_count": 25,
   "metadata": {},
   "outputs": [
    {
     "output_type": "execute_result",
     "data": {
      "text/plain": [
       "[1, 4, 9, 25, 49]"
      ]
     },
     "metadata": {},
     "execution_count": 25
    }
   ],
   "source": [
    "numbers = [1, 2, 3, 5, 7]\n",
    "squares = (n**2 for n in numbers)\n",
    "list(squares)\n"
   ]
  },
  {
   "cell_type": "code",
   "execution_count": 30,
   "metadata": {},
   "outputs": [],
   "source": [
    "[x, y, z] = [8, 2, 3]"
   ]
  },
  {
   "cell_type": "code",
   "execution_count": 31,
   "metadata": {},
   "outputs": [
    {
     "output_type": "stream",
     "name": "stdout",
     "text": [
      "8\n"
     ]
    }
   ],
   "source": [
    "print(x)"
   ]
  },
  {
   "cell_type": "code",
   "execution_count": null,
   "metadata": {},
   "outputs": [],
   "source": []
  }
 ]
}